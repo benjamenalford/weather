{
 "cells": [
  {
   "cell_type": "code",
   "execution_count": 8,
   "id": "cf766adf",
   "metadata": {},
   "outputs": [
    {
     "name": "stderr",
     "output_type": "stream",
     "text": [
      "/tmp/ipykernel_142187/3977951339.py:1: DeprecationWarning: \n",
      "Pyarrow will become a required dependency of pandas in the next major release of pandas (pandas 3.0),\n",
      "(to allow more performant data types, such as the Arrow string type, and better interoperability with other libraries)\n",
      "but was not found to be installed on your system.\n",
      "If this would cause problems for you,\n",
      "please provide us feedback at https://github.com/pandas-dev/pandas/issues/54466\n",
      "        \n",
      "  import pandas as pd\n"
     ]
    }
   ],
   "source": [
    "import pandas as pd\n",
    "import requests\n",
    "import time\n",
    "import json\n",
    "import datetime\n",
    "import timedelta"
   ]
  },
  {
   "cell_type": "code",
   "execution_count": null,
   "id": "fdc56325",
   "metadata": {},
   "outputs": [],
   "source": [
    "weather_df = pd.read_csv(\"./jupyter/2024_forecast.csv\")"
   ]
  },
  {
   "cell_type": "code",
   "execution_count": null,
   "id": "dd35efdd",
   "metadata": {},
   "outputs": [],
   "source": [
    "del weather_df['Unnamed: 0']"
   ]
  },
  {
   "cell_type": "code",
   "execution_count": null,
   "id": "ba8ae234",
   "metadata": {},
   "outputs": [],
   "source": [
    "weather_df.head(1)"
   ]
  },
  {
   "cell_type": "code",
   "execution_count": null,
   "id": "90469626",
   "metadata": {},
   "outputs": [],
   "source": [
    "weather_df['date'] = \"\""
   ]
  },
  {
   "cell_type": "code",
   "execution_count": null,
   "id": "eb6ef9fa",
   "metadata": {},
   "outputs": [],
   "source": [
    "start_date = '2024-1-2'\n",
    "end_date = '2024-1-2'\n",
    "params = '{\"elems\":[{\"name\":\"maxt\",\"interval\":[1,0,0],\"duration\":1,\"smry\":[{\"reduce\":\"max\"},{\"reduce\":\"mean\"},{\"reduce\":\"min\"},{\"reduce\":\"pct_ge_100\"},{\"reduce\":\"pct_ge_90\"},{\"reduce\":\"pct_ge_50\"},{\"reduce\":\"pct_le_32\"}]},{\"name\":\"mint\",\"interval\":[1,0,0],\"duration\":1,\"smry\":[{\"reduce\":\"max\"},{\"reduce\":\"mean\"},{\"reduce\":\"min\"},{\"reduce\":\"pct_ge_70\"},{\"reduce\":\"pct_ge_50\"},{\"reduce\":\"pct_le_32\"},{\"reduce\":\"pct_le_0\"}]},{\"name\":\"pcpn\",\"interval\":[1,0,0],\"duration\":1,\"smry\":[{\"reduce\":\"max\"},{\"reduce\":\"mean\"},{\"reduce\":\"min\"},{\"reduce\":\"pct_ge_0.01\"},{\"reduce\":\"pct_ge_0.10\"},{\"reduce\":\"pct_ge_0.50\"},{\"reduce\":\"pct_ge_1.0\"}]},{\"name\":\"snow\",\"interval\":[1,0,0],\"duration\":1,\"smry\":[{\"reduce\":\"max\"},{\"reduce\":\"mean\"},{\"reduce\":\"min\"},{\"reduce\":\"pct_ge_0.1\"},{\"reduce\":\"pct_ge_1.0\"},{\"reduce\":\"pct_ge_3.0\"},{\"reduce\":\"pct_ge_6.0\"}]},{\"name\":\"snwd\",\"interval\":[1,0,0],\"duration\":1,\"smry\":[{\"reduce\":\"max\"},{\"reduce\":\"mean\"},{\"reduce\":\"min\"},{\"reduce\":\"pct_ge_1\"},{\"reduce\":\"pct_ge_3\"},{\"reduce\":\"pct_ge_6\"},{\"reduce\":\"pct_ge_12\"}]}],\"sid\":\"TOPthr 9\",\"sDate\":\"{start_date}\",\"eDate\":\"{end_date}\"}'\n",
    "params = params.replace('{start_date}', start_date)\n",
    "params = params.replace('{end_date}', end_date)\n",
    "param_obj = json.loads(params)\n",
    "url = 'https://data.rcc-acis.org/StnData'\n",
    "req = requests.post(url, data={'params': params, 'output': 'json'})"
   ]
  },
  {
   "cell_type": "code",
   "execution_count": null,
   "id": "3cf92d04",
   "metadata": {},
   "outputs": [],
   "source": [
    "date, max_temp, min_temp, precip, snow, snow_depth = req.json()['data'][0]\n",
    "day_data = {'date': date, 'actual_max_temp': max_temp, \"actual_min_temp\": min_temp,\n",
    "            \"actual_precip\": precip, \"actual_snow\": snow, \"actual_snow_depth\": snow_depth}\n",
    "ephemera_url = \"http://ira.local:5000/api/weather/add\"\n",
    "requests.post(ephemera_url, json=day_data).text"
   ]
  },
  {
   "cell_type": "code",
   "execution_count": null,
   "id": "b9ea1873",
   "metadata": {},
   "outputs": [],
   "source": [
    "actuals_df = pd.DataFrame([day_data])"
   ]
  },
  {
   "cell_type": "code",
   "execution_count": null,
   "id": "48342004",
   "metadata": {},
   "outputs": [],
   "source": [
    "actuals_df"
   ]
  },
  {
   "cell_type": "code",
   "execution_count": null,
   "id": "29d7f18d",
   "metadata": {},
   "outputs": [],
   "source": [
    "for i, r in weather_df.iterrows():\n",
    "    current_date = f\"2024-{r['month']:02d}-{r['day']:02d}\"\n",
    "    weather_df.loc[i, 'date'] = current_date"
   ]
  },
  {
   "cell_type": "code",
   "execution_count": null,
   "id": "ab467f42",
   "metadata": {},
   "outputs": [],
   "source": [
    "day_df_json = pd.merge(weather_df, actuals_df,\n",
    "                       how='inner').to_json(orient='records')\n",
    "pd.merge(weather_df, actuals_df,\n",
    "         how='inner')"
   ]
  },
  {
   "cell_type": "code",
   "execution_count": null,
   "id": "6faddec6",
   "metadata": {},
   "outputs": [],
   "source": [
    "ephemera_url = \"http://ira.local:5000/api/weather\"\n",
    "requests.get(ephemera_url).json()"
   ]
  },
  {
   "cell_type": "code",
   "execution_count": null,
   "id": "acc469a4",
   "metadata": {},
   "outputs": [],
   "source": [
    "start_date = datetime.strftime(\n",
    "    datetime.now() - timedelta(1), '%Y-%m-%d')  # '2024-1-2'\n",
    "end_date = datetime.strftime(\n",
    "    datetime.now() - timedelta(1), '%Y-%m-%d')  # '2024-1-2'\n",
    "params = '{\"elems\":[{\"name\":\"maxt\",\"interval\":[1,0,0],\"duration\":1,\"smry\":[{\"reduce\":\"max\"},{\"reduce\":\"mean\"},{\"reduce\":\"min\"},{\"reduce\":\"pct_ge_100\"},{\"reduce\":\"pct_ge_90\"},{\"reduce\":\"pct_ge_50\"},{\"reduce\":\"pct_le_32\"}]},{\"name\":\"mint\",\"interval\":[1,0,0],\"duration\":1,\"smry\":[{\"reduce\":\"max\"},{\"reduce\":\"mean\"},{\"reduce\":\"min\"},{\"reduce\":\"pct_ge_70\"},{\"reduce\":\"pct_ge_50\"},{\"reduce\":\"pct_le_32\"},{\"reduce\":\"pct_le_0\"}]},{\"name\":\"pcpn\",\"interval\":[1,0,0],\"duration\":1,\"smry\":[{\"reduce\":\"max\"},{\"reduce\":\"mean\"},{\"reduce\":\"min\"},{\"reduce\":\"pct_ge_0.01\"},{\"reduce\":\"pct_ge_0.10\"},{\"reduce\":\"pct_ge_0.50\"},{\"reduce\":\"pct_ge_1.0\"}]},{\"name\":\"snow\",\"interval\":[1,0,0],\"duration\":1,\"smry\":[{\"reduce\":\"max\"},{\"reduce\":\"mean\"},{\"reduce\":\"min\"},{\"reduce\":\"pct_ge_0.1\"},{\"reduce\":\"pct_ge_1.0\"},{\"reduce\":\"pct_ge_3.0\"},{\"reduce\":\"pct_ge_6.0\"}]},{\"name\":\"snwd\",\"interval\":[1,0,0],\"duration\":1,\"smry\":[{\"reduce\":\"max\"},{\"reduce\":\"mean\"},{\"reduce\":\"min\"},{\"reduce\":\"pct_ge_1\"},{\"reduce\":\"pct_ge_3\"},{\"reduce\":\"pct_ge_6\"},{\"reduce\":\"pct_ge_12\"}]}],\"sid\":\"TOPthr 9\",\"sDate\":\"{start_date}\",\"eDate\":\"{end_date}\"}'\n",
    "params = params.replace('{start_date}', start_date)\n",
    "params = params.replace('{end_date}', end_date)\n",
    "param_obj = json.loads(params)\n",
    "url = 'https://data.rcc-acis.org/StnData'\n",
    "req = requests.post(url, data={'params': params, 'output': 'json'})\n",
    "\n",
    "date, max_temp, min_temp, precip, snow, snow_depth = req.json()['data'][0]\n",
    "day_data = {'date': date, 'actual_max_temp': max_temp, \"actual_min_temp\": min_temp,\n",
    "            \"actual_precip\": precip, \"actual_snow\": snow, \"actual_snow_depth\": snow_depth}"
   ]
  },
  {
   "cell_type": "code",
   "execution_count": null,
   "id": "6993af0f",
   "metadata": {},
   "outputs": [],
   "source": [
    "ephemera_url = \"http://ira.local:5000/api/weather/add\"\n",
    "requests.post(ephemera_url, json=day_data).text"
   ]
  }
 ],
 "metadata": {
  "kernelspec": {
   "display_name": "Python 3 (ipykernel)",
   "language": "python",
   "name": "python3"
  },
  "language_info": {
   "codemirror_mode": {
    "name": "ipython",
    "version": 3
   },
   "file_extension": ".py",
   "mimetype": "text/x-python",
   "name": "python",
   "nbconvert_exporter": "python",
   "pygments_lexer": "ipython3",
   "version": "3.11.6"
  }
 },
 "nbformat": 4,
 "nbformat_minor": 5
}
