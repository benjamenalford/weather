{
 "cells": [
  {
   "cell_type": "code",
   "execution_count": 4,
   "id": "cf766adf",
   "metadata": {},
   "outputs": [],
   "source": [
    "import pandas as pd\n",
    "import requests\n",
    "import time\n",
    "import json\n",
    "import datetime\n",
    "import timedelta"
   ]
  },
  {
   "cell_type": "code",
   "execution_count": null,
   "id": "fdc56325",
   "metadata": {},
   "outputs": [],
   "source": [
    "weather_df = pd.read_csv(\"./jupyter/2024_forecast.csv\")"
   ]
  },
  {
   "cell_type": "code",
   "execution_count": 70,
   "id": "dd35efdd",
   "metadata": {},
   "outputs": [],
   "source": [
    "del weather_df['Unnamed: 0']"
   ]
  },
  {
   "cell_type": "code",
   "execution_count": 71,
   "id": "ba8ae234",
   "metadata": {},
   "outputs": [
    {
     "data": {
      "text/html": [
       "<div>\n",
       "<style scoped>\n",
       "    .dataframe tbody tr th:only-of-type {\n",
       "        vertical-align: middle;\n",
       "    }\n",
       "\n",
       "    .dataframe tbody tr th {\n",
       "        vertical-align: top;\n",
       "    }\n",
       "\n",
       "    .dataframe thead th {\n",
       "        text-align: right;\n",
       "    }\n",
       "</style>\n",
       "<table border=\"1\" class=\"dataframe\">\n",
       "  <thead>\n",
       "    <tr style=\"text-align: right;\">\n",
       "      <th></th>\n",
       "      <th>month</th>\n",
       "      <th>day</th>\n",
       "      <th>forecast</th>\n",
       "      <th>rain</th>\n",
       "      <th>low_temp_low</th>\n",
       "      <th>low_temp_high</th>\n",
       "      <th>high_temp_low</th>\n",
       "      <th>high_temp_high</th>\n",
       "    </tr>\n",
       "  </thead>\n",
       "  <tbody>\n",
       "    <tr>\n",
       "      <th>0</th>\n",
       "      <td>1</td>\n",
       "      <td>1</td>\n",
       "      <td>transition</td>\n",
       "      <td>23%</td>\n",
       "      <td>High Temperature Forecast 35</td>\n",
       "      <td>45.0</td>\n",
       "      <td>Low Temperature Forecast 15</td>\n",
       "      <td>25.0</td>\n",
       "    </tr>\n",
       "  </tbody>\n",
       "</table>\n",
       "</div>"
      ],
      "text/plain": [
       "   month  day    forecast rain                  low_temp_low  low_temp_high  \\\n",
       "0      1    1  transition  23%  High Temperature Forecast 35           45.0   \n",
       "\n",
       "                 high_temp_low  high_temp_high  \n",
       "0  Low Temperature Forecast 15            25.0  "
      ]
     },
     "execution_count": 71,
     "metadata": {},
     "output_type": "execute_result"
    }
   ],
   "source": [
    "weather_df.head(1)"
   ]
  },
  {
   "cell_type": "code",
   "execution_count": 72,
   "id": "90469626",
   "metadata": {},
   "outputs": [],
   "source": [
    "weather_df['date'] = \"\""
   ]
  },
  {
   "cell_type": "code",
   "execution_count": 136,
   "id": "eb6ef9fa",
   "metadata": {},
   "outputs": [],
   "source": [
    "start_date = '2024-1-2'\n",
    "end_date = '2024-1-2'\n",
    "params = '{\"elems\":[{\"name\":\"maxt\",\"interval\":[1,0,0],\"duration\":1,\"smry\":[{\"reduce\":\"max\"},{\"reduce\":\"mean\"},{\"reduce\":\"min\"},{\"reduce\":\"pct_ge_100\"},{\"reduce\":\"pct_ge_90\"},{\"reduce\":\"pct_ge_50\"},{\"reduce\":\"pct_le_32\"}]},{\"name\":\"mint\",\"interval\":[1,0,0],\"duration\":1,\"smry\":[{\"reduce\":\"max\"},{\"reduce\":\"mean\"},{\"reduce\":\"min\"},{\"reduce\":\"pct_ge_70\"},{\"reduce\":\"pct_ge_50\"},{\"reduce\":\"pct_le_32\"},{\"reduce\":\"pct_le_0\"}]},{\"name\":\"pcpn\",\"interval\":[1,0,0],\"duration\":1,\"smry\":[{\"reduce\":\"max\"},{\"reduce\":\"mean\"},{\"reduce\":\"min\"},{\"reduce\":\"pct_ge_0.01\"},{\"reduce\":\"pct_ge_0.10\"},{\"reduce\":\"pct_ge_0.50\"},{\"reduce\":\"pct_ge_1.0\"}]},{\"name\":\"snow\",\"interval\":[1,0,0],\"duration\":1,\"smry\":[{\"reduce\":\"max\"},{\"reduce\":\"mean\"},{\"reduce\":\"min\"},{\"reduce\":\"pct_ge_0.1\"},{\"reduce\":\"pct_ge_1.0\"},{\"reduce\":\"pct_ge_3.0\"},{\"reduce\":\"pct_ge_6.0\"}]},{\"name\":\"snwd\",\"interval\":[1,0,0],\"duration\":1,\"smry\":[{\"reduce\":\"max\"},{\"reduce\":\"mean\"},{\"reduce\":\"min\"},{\"reduce\":\"pct_ge_1\"},{\"reduce\":\"pct_ge_3\"},{\"reduce\":\"pct_ge_6\"},{\"reduce\":\"pct_ge_12\"}]}],\"sid\":\"TOPthr 9\",\"sDate\":\"{start_date}\",\"eDate\":\"{end_date}\"}'\n",
    "params = params.replace('{start_date}', start_date)\n",
    "params = params.replace('{end_date}', end_date)\n",
    "param_obj = json.loads(params)\n",
    "url = 'https://data.rcc-acis.org/StnData'\n",
    "req = requests.post(url, data={'params': params, 'output': 'json'})"
   ]
  },
  {
   "cell_type": "code",
   "execution_count": 137,
   "id": "3cf92d04",
   "metadata": {},
   "outputs": [],
   "source": [
    "date, max_temp, min_temp, precip, snow, snow_depth = req.json()['data'][0]\n",
    "day_data = {'date': date, 'actual_max_temp': max_temp, \"actual_min_temp\": min_temp,\n",
    "            \"actual_precip\": precip, \"actual_snow\": snow, \"actual_snow_depth\": snow_depth}\n",
    "ephemera_url = \"http://ira.local:5000/api/weather/add\"\n",
    "requests.post(ephemera_url, json=day_data).text"
   ]
  },
  {
   "cell_type": "code",
   "execution_count": 75,
   "id": "b9ea1873",
   "metadata": {},
   "outputs": [],
   "source": [
    "actuals_df = pd.DataFrame([day_data])"
   ]
  },
  {
   "cell_type": "code",
   "execution_count": 132,
   "id": "48342004",
   "metadata": {},
   "outputs": [
    {
     "data": {
      "text/html": [
       "<div>\n",
       "<style scoped>\n",
       "    .dataframe tbody tr th:only-of-type {\n",
       "        vertical-align: middle;\n",
       "    }\n",
       "\n",
       "    .dataframe tbody tr th {\n",
       "        vertical-align: top;\n",
       "    }\n",
       "\n",
       "    .dataframe thead th {\n",
       "        text-align: right;\n",
       "    }\n",
       "</style>\n",
       "<table border=\"1\" class=\"dataframe\">\n",
       "  <thead>\n",
       "    <tr style=\"text-align: right;\">\n",
       "      <th></th>\n",
       "      <th>date</th>\n",
       "      <th>actual_max_temp</th>\n",
       "      <th>actual_min_temp</th>\n",
       "      <th>actual_precip</th>\n",
       "      <th>actual_snow</th>\n",
       "      <th>actual_snow_depth</th>\n",
       "    </tr>\n",
       "  </thead>\n",
       "  <tbody>\n",
       "    <tr>\n",
       "      <th>0</th>\n",
       "      <td>2024-01-01</td>\n",
       "      <td>39</td>\n",
       "      <td>24</td>\n",
       "      <td>0.00</td>\n",
       "      <td>M</td>\n",
       "      <td>M</td>\n",
       "    </tr>\n",
       "  </tbody>\n",
       "</table>\n",
       "</div>"
      ],
      "text/plain": [
       "         date actual_max_temp actual_min_temp actual_precip actual_snow  \\\n",
       "0  2024-01-01              39              24          0.00           M   \n",
       "\n",
       "  actual_snow_depth  \n",
       "0                 M  "
      ]
     },
     "execution_count": 132,
     "metadata": {},
     "output_type": "execute_result"
    }
   ],
   "source": [
    "actuals_df"
   ]
  },
  {
   "cell_type": "code",
   "execution_count": 133,
   "id": "29d7f18d",
   "metadata": {},
   "outputs": [],
   "source": [
    "for i, r in weather_df.iterrows():\n",
    "    current_date = f\"2024-{r['month']:02d}-{r['day']:02d}\"\n",
    "    weather_df.loc[i, 'date'] = current_date"
   ]
  },
  {
   "cell_type": "code",
   "execution_count": 134,
   "id": "ab467f42",
   "metadata": {},
   "outputs": [
    {
     "data": {
      "text/html": [
       "<div>\n",
       "<style scoped>\n",
       "    .dataframe tbody tr th:only-of-type {\n",
       "        vertical-align: middle;\n",
       "    }\n",
       "\n",
       "    .dataframe tbody tr th {\n",
       "        vertical-align: top;\n",
       "    }\n",
       "\n",
       "    .dataframe thead th {\n",
       "        text-align: right;\n",
       "    }\n",
       "</style>\n",
       "<table border=\"1\" class=\"dataframe\">\n",
       "  <thead>\n",
       "    <tr style=\"text-align: right;\">\n",
       "      <th></th>\n",
       "      <th>month</th>\n",
       "      <th>day</th>\n",
       "      <th>forecast</th>\n",
       "      <th>rain</th>\n",
       "      <th>low_temp_low</th>\n",
       "      <th>low_temp_high</th>\n",
       "      <th>high_temp_low</th>\n",
       "      <th>high_temp_high</th>\n",
       "      <th>date</th>\n",
       "      <th>actual_max_temp</th>\n",
       "      <th>actual_min_temp</th>\n",
       "      <th>actual_precip</th>\n",
       "      <th>actual_snow</th>\n",
       "      <th>actual_snow_depth</th>\n",
       "    </tr>\n",
       "  </thead>\n",
       "  <tbody>\n",
       "    <tr>\n",
       "      <th>0</th>\n",
       "      <td>1</td>\n",
       "      <td>1</td>\n",
       "      <td>transition</td>\n",
       "      <td>23%</td>\n",
       "      <td>High Temperature Forecast 35</td>\n",
       "      <td>45.0</td>\n",
       "      <td>Low Temperature Forecast 15</td>\n",
       "      <td>25.0</td>\n",
       "      <td>2024-01-01</td>\n",
       "      <td>39</td>\n",
       "      <td>24</td>\n",
       "      <td>0.00</td>\n",
       "      <td>M</td>\n",
       "      <td>M</td>\n",
       "    </tr>\n",
       "  </tbody>\n",
       "</table>\n",
       "</div>"
      ],
      "text/plain": [
       "   month  day    forecast rain                  low_temp_low  low_temp_high  \\\n",
       "0      1    1  transition  23%  High Temperature Forecast 35           45.0   \n",
       "\n",
       "                 high_temp_low  high_temp_high        date actual_max_temp  \\\n",
       "0  Low Temperature Forecast 15            25.0  2024-01-01              39   \n",
       "\n",
       "  actual_min_temp actual_precip actual_snow actual_snow_depth  \n",
       "0              24          0.00           M                 M  "
      ]
     },
     "execution_count": 134,
     "metadata": {},
     "output_type": "execute_result"
    }
   ],
   "source": [
    "day_df_json = pd.merge(weather_df, actuals_df,\n",
    "                       how='inner').to_json(orient='records')\n",
    "pd.merge(weather_df, actuals_df,\n",
    "         how='inner')"
   ]
  },
  {
   "cell_type": "code",
   "execution_count": 5,
   "id": "6faddec6",
   "metadata": {},
   "outputs": [
    {
     "data": {
      "text/plain": [
       "[{'_id': {'$oid': '6594f80192594cb87c609eb8'},\n",
       "  'date': '2024-01-01',\n",
       "  'actual_max_temp': '39',\n",
       "  'actual_min_temp': '24',\n",
       "  'actual_precip': '0.00',\n",
       "  'actual_snow': 'M',\n",
       "  'actual_snow_depth': 'M'},\n",
       " {'_id': {'$oid': '659575453eb39eb2035ad8f8'},\n",
       "  'date': '2024-01-02',\n",
       "  'actual_max_temp': '44',\n",
       "  'actual_min_temp': '21',\n",
       "  'actual_precip': '0.00',\n",
       "  'actual_snow': '0.0',\n",
       "  'actual_snow_depth': '0'}]"
      ]
     },
     "execution_count": 5,
     "metadata": {},
     "output_type": "execute_result"
    }
   ],
   "source": [
    "ephemera_url = \"http://ira.local:5000/api/weather\"\n",
    "requests.get(ephemera_url).json()"
   ]
  },
  {
   "cell_type": "code",
   "execution_count": 9,
   "id": "acc469a4",
   "metadata": {},
   "outputs": [
    {
     "data": {
      "text/plain": [
       "{'date': '2024-01-02',\n",
       " 'actual_max_temp': '44',\n",
       " 'actual_min_temp': '21',\n",
       " 'actual_precip': '0.00',\n",
       " 'actual_snow': 'M',\n",
       " 'actual_snow_depth': 'M'}"
      ]
     },
     "execution_count": 9,
     "metadata": {},
     "output_type": "execute_result"
    }
   ],
   "source": [
    "start_date = datetime.strftime(\n",
    "    datetime.now() - timedelta(1), '%Y-%m-%d')  # '2024-1-2'\n",
    "end_date = datetime.strftime(\n",
    "    datetime.now() - timedelta(1), '%Y-%m-%d')  # '2024-1-2'\n",
    "params = '{\"elems\":[{\"name\":\"maxt\",\"interval\":[1,0,0],\"duration\":1,\"smry\":[{\"reduce\":\"max\"},{\"reduce\":\"mean\"},{\"reduce\":\"min\"},{\"reduce\":\"pct_ge_100\"},{\"reduce\":\"pct_ge_90\"},{\"reduce\":\"pct_ge_50\"},{\"reduce\":\"pct_le_32\"}]},{\"name\":\"mint\",\"interval\":[1,0,0],\"duration\":1,\"smry\":[{\"reduce\":\"max\"},{\"reduce\":\"mean\"},{\"reduce\":\"min\"},{\"reduce\":\"pct_ge_70\"},{\"reduce\":\"pct_ge_50\"},{\"reduce\":\"pct_le_32\"},{\"reduce\":\"pct_le_0\"}]},{\"name\":\"pcpn\",\"interval\":[1,0,0],\"duration\":1,\"smry\":[{\"reduce\":\"max\"},{\"reduce\":\"mean\"},{\"reduce\":\"min\"},{\"reduce\":\"pct_ge_0.01\"},{\"reduce\":\"pct_ge_0.10\"},{\"reduce\":\"pct_ge_0.50\"},{\"reduce\":\"pct_ge_1.0\"}]},{\"name\":\"snow\",\"interval\":[1,0,0],\"duration\":1,\"smry\":[{\"reduce\":\"max\"},{\"reduce\":\"mean\"},{\"reduce\":\"min\"},{\"reduce\":\"pct_ge_0.1\"},{\"reduce\":\"pct_ge_1.0\"},{\"reduce\":\"pct_ge_3.0\"},{\"reduce\":\"pct_ge_6.0\"}]},{\"name\":\"snwd\",\"interval\":[1,0,0],\"duration\":1,\"smry\":[{\"reduce\":\"max\"},{\"reduce\":\"mean\"},{\"reduce\":\"min\"},{\"reduce\":\"pct_ge_1\"},{\"reduce\":\"pct_ge_3\"},{\"reduce\":\"pct_ge_6\"},{\"reduce\":\"pct_ge_12\"}]}],\"sid\":\"TOPthr 9\",\"sDate\":\"{start_date}\",\"eDate\":\"{end_date}\"}'\n",
    "params = params.replace('{start_date}', start_date)\n",
    "params = params.replace('{end_date}', end_date)\n",
    "param_obj = json.loads(params)\n",
    "url = 'https://data.rcc-acis.org/StnData'\n",
    "req = requests.post(url, data={'params': params, 'output': 'json'})\n",
    "\n",
    "date, max_temp, min_temp, precip, snow, snow_depth = req.json()['data'][0]\n",
    "day_data = {'date': date, 'actual_max_temp': max_temp, \"actual_min_temp\": min_temp,\n",
    "            \"actual_precip\": precip, \"actual_snow\": snow, \"actual_snow_depth\": snow_depth}"
   ]
  },
  {
   "cell_type": "code",
   "execution_count": 8,
   "id": "6993af0f",
   "metadata": {},
   "outputs": [
    {
     "data": {
      "text/plain": [
       "'2024-01-02'"
      ]
     },
     "execution_count": 8,
     "metadata": {},
     "output_type": "execute_result"
    }
   ],
   "source": [
    "ephemera_url = \"http://ira.local:5000/api/weather/add\"\n",
    "requests.post(ephemera_url, json=day_data).text"
   ]
  }
 ],
 "metadata": {
  "kernelspec": {
   "display_name": "Python 3 (ipykernel)",
   "language": "python",
   "name": "python3"
  },
  "language_info": {
   "codemirror_mode": {
    "name": "ipython",
    "version": 3
   },
   "file_extension": ".py",
   "mimetype": "text/x-python",
   "name": "python",
   "nbconvert_exporter": "python",
   "pygments_lexer": "ipython3",
   "version": "3.11.6"
  }
 },
 "nbformat": 4,
 "nbformat_minor": 5
}
