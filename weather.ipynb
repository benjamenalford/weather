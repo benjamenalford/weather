{
 "cells": [
  {
   "cell_type": "code",
   "execution_count": null,
   "metadata": {},
   "outputs": [],
   "source": [
    "import pandas as pd\n",
    "import requests\n",
    "import bs4\n",
    "from time import sleep"
   ]
  },
  {
   "cell_type": "code",
   "execution_count": null,
   "metadata": {},
   "outputs": [],
   "source": [
    "months = []\n",
    "months_range = range(1, 13)\n",
    "for month_num in months_range:\n",
    "    req = requests.get(\n",
    "        f\"https://www.weathertab.com/en/c/e/{month_num}/united-states/kansas/topeka/\")\n",
    "    month_soup = bs4.BeautifulSoup(req.text)\n",
    "    day_svg = month_soup.find('div', class_='calendarNew').find_all('svg')\n",
    "    for d in day_svg:\n",
    "        day_text = d.find('a').find_all('text')\n",
    "        day_forecast = {}\n",
    "        for day in day_text:\n",
    "            day_forecast['month'] = f'{month_num}'\n",
    "            for the_day in day_text[:4]:    #the last two elements are just the temp in C but has the same class name, so just ignore them\n",
    "                if the_day['class'][0] == 'dt':\n",
    "                    day_forecast['day'] = the_day.text\n",
    "                if the_day['class'][0] == 'pct':\n",
    "                    day_forecast['precip'] = the_day.text   \n",
    "                if the_day['class'][0] == 'hot' :\n",
    "                    day_forecast['high'] = the_day.text  \n",
    "                if the_day['class'][0] == 'cold' :\n",
    "                    day_forecast['cold'] = the_day.text  \n",
    "        months.append(day_forecast)"
   ]
  },
  {
   "cell_type": "code",
   "execution_count": null,
   "metadata": {},
   "outputs": [],
   "source": [
    "#check the results\n",
    "months_bk = months.copy() #why not make a back up   ¯\\_(ツ)_/¯\n",
    "pd.DataFrame(months_bk).sample(10)"
   ]
  },
  {
   "cell_type": "code",
   "execution_count": null,
   "metadata": {},
   "outputs": [],
   "source": [
    "#optional, get more details for each day\n",
    "for day in months:\n",
    "    print(f\"getting month {day['month']} , day {day['day']}\")\n",
    "    day_url = f\"https://www.weathertab.com/en/long-range-weather/e/{day['month']}/{day['day']}/united-states/kansas/topeka/?ref=c\"\n",
    "    day_soup = bs4.BeautifulSoup(requests.get(day_url).text)\n",
    "    day['forecast'] = day_soup.find('td',class_='fct_detail_img').find('svg')['title']\n",
    "    for t in day_soup.find_all('div', class_='F'):\n",
    "        cleaned_text = t.text.strip().split(' ')\n",
    "        if (t.text.find('High Temperature Forecast')):\n",
    "            day['high_temp_low'] = cleaned_text[3].strip()\n",
    "            day['high_temp_high'] = cleaned_text[5].strip()\n",
    "        else:\n",
    "            day['low_temp_low'] = cleaned_text[3].strip()\n",
    "            day['low_temp_high'] = cleaned_text[5].strip()"
   ]
  },
  {
   "cell_type": "code",
   "execution_count": null,
   "metadata": {},
   "outputs": [],
   "source": [
    "weather_df = pd.DataFrame(months).drop_duplicates()"
   ]
  },
  {
   "cell_type": "code",
   "execution_count": null,
   "metadata": {},
   "outputs": [],
   "source": [
    "#save it\n",
    "weather_df.to_csv(\"2024_forecast.csv\", index=False)"
   ]
  },
  {
   "cell_type": "code",
   "execution_count": null,
   "metadata": {},
   "outputs": [],
   "source": [
    "#checkt the saved file\n",
    "pd.read_csv(\"2024_forecast.csv\")"
   ]
  }
 ],
 "metadata": {
  "kernelspec": {
   "display_name": "Python 3 (ipykernel)",
   "language": "python",
   "name": "python3"
  },
  "language_info": {
   "codemirror_mode": {
    "name": "ipython",
    "version": 3
   },
   "file_extension": ".py",
   "mimetype": "text/x-python",
   "name": "python",
   "nbconvert_exporter": "python",
   "pygments_lexer": "ipython3",
   "version": "3.11.6"
  }
 },
 "nbformat": 4,
 "nbformat_minor": 2
}
